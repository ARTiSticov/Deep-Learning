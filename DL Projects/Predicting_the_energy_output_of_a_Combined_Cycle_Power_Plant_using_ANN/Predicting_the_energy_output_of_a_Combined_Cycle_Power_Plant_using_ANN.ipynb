{
  "nbformat": 4,
  "nbformat_minor": 0,
  "metadata": {
    "colab": {
      "name": "Predicting the energy output of a Combined Cycle Power Plant using ANN",
      "provenance": [],
      "collapsed_sections": [],
      "toc_visible": true,
      "include_colab_link": true
    },
    "kernelspec": {
      "name": "python3",
      "display_name": "Python 3"
    }
  },
  "cells": [
    {
      "cell_type": "markdown",
      "metadata": {
        "id": "view-in-github",
        "colab_type": "text"
      },
      "source": [
        "<a href=\"https://colab.research.google.com/github/ARTiSticov/Deep-Learning/blob/main/Predicting_the_energy_output_of_a_Combined_Cycle_Power_Plant_using_ANN.ipynb\" target=\"_parent\"><img src=\"https://colab.research.google.com/assets/colab-badge.svg\" alt=\"Open In Colab\"/></a>"
      ]
    },
    {
      "cell_type": "markdown",
      "metadata": {
        "id": "3cbb7fRy-eyr"
      },
      "source": [
        "# Artificial Neural Network"
      ]
    },
    {
      "cell_type": "markdown",
      "metadata": {
        "id": "8sNDnxE2-pwE"
      },
      "source": [
        "### Importing the libraries"
      ]
    },
    {
      "cell_type": "code",
      "metadata": {
        "id": "lxChR1Rk-umf"
      },
      "source": [
        "import numpy as np\n",
        "import pandas as pd\n",
        "import tensorflow as tf"
      ],
      "execution_count": 1,
      "outputs": []
    },
    {
      "cell_type": "code",
      "metadata": {
        "id": "uBTqR3nacj0e",
        "colab": {
          "base_uri": "https://localhost:8080/",
          "height": 35
        },
        "outputId": "822ea118-559e-4077-ec8e-74dec9de527c"
      },
      "source": [
        "tf.__version__"
      ],
      "execution_count": 2,
      "outputs": [
        {
          "output_type": "execute_result",
          "data": {
            "application/vnd.google.colaboratory.intrinsic+json": {
              "type": "string"
            },
            "text/plain": [
              "'2.4.1'"
            ]
          },
          "metadata": {
            "tags": []
          },
          "execution_count": 2
        }
      ]
    },
    {
      "cell_type": "markdown",
      "metadata": {
        "id": "AG3FQEch-yuA"
      },
      "source": [
        "## Part 1 - Data Preprocessing"
      ]
    },
    {
      "cell_type": "markdown",
      "metadata": {
        "id": "-4zq8Mza_D9O"
      },
      "source": [
        "### Importing the dataset"
      ]
    },
    {
      "cell_type": "code",
      "metadata": {
        "id": "B9CV13Co_HHM"
      },
      "source": [
        "dataset = pd.read_excel('Folds5x2_pp.xlsx')\n",
        "X = dataset.iloc[:, :-1].values\n",
        "y = dataset.iloc[:, -1].values"
      ],
      "execution_count": 3,
      "outputs": []
    },
    {
      "cell_type": "markdown",
      "metadata": {
        "id": "VC6omXel_Up0"
      },
      "source": [
        "### Splitting the dataset into the Training set and Test set"
      ]
    },
    {
      "cell_type": "code",
      "metadata": {
        "id": "L5edeb2r_agx"
      },
      "source": [
        "from sklearn.model_selection import train_test_split\n",
        "X_train, X_test, y_train, y_test = train_test_split(X, y, test_size = 0.2, random_state = 0)"
      ],
      "execution_count": 4,
      "outputs": []
    },
    {
      "cell_type": "markdown",
      "metadata": {
        "id": "_mSLlAT9_eyI"
      },
      "source": [
        "## Part 2 - Building the ANN"
      ]
    },
    {
      "cell_type": "markdown",
      "metadata": {
        "id": "CsBULd_f_wLY"
      },
      "source": [
        "### Initializing the ANN"
      ]
    },
    {
      "cell_type": "code",
      "metadata": {
        "id": "J6Hd97Ls__Nz"
      },
      "source": [
        "ann = tf.keras.models.Sequential()"
      ],
      "execution_count": 5,
      "outputs": []
    },
    {
      "cell_type": "markdown",
      "metadata": {
        "id": "iitAFJS_ABUn"
      },
      "source": [
        "### Adding the input layer and the first hidden layer"
      ]
    },
    {
      "cell_type": "code",
      "metadata": {
        "id": "ksO_Vv40AHix"
      },
      "source": [
        "ann.add(tf.keras.layers.Dense(units=6, activation='relu'))"
      ],
      "execution_count": 6,
      "outputs": []
    },
    {
      "cell_type": "markdown",
      "metadata": {
        "id": "-lb4kK_wAKbs"
      },
      "source": [
        "### Adding the second hidden layer"
      ]
    },
    {
      "cell_type": "code",
      "metadata": {
        "id": "c2357OqEAQOQ"
      },
      "source": [
        "ann.add(tf.keras.layers.Dense(units=6, activation='relu'))"
      ],
      "execution_count": 7,
      "outputs": []
    },
    {
      "cell_type": "markdown",
      "metadata": {
        "id": "jwMOmKb3AdBY"
      },
      "source": [
        "### Adding the output layer"
      ]
    },
    {
      "cell_type": "code",
      "metadata": {
        "id": "YFATpzsUAkLL"
      },
      "source": [
        "ann.add(tf.keras.layers.Dense(units=1))"
      ],
      "execution_count": 8,
      "outputs": []
    },
    {
      "cell_type": "markdown",
      "metadata": {
        "id": "fq7e4fF6A1yy"
      },
      "source": [
        "## Part 3 - Training the ANN"
      ]
    },
    {
      "cell_type": "markdown",
      "metadata": {
        "id": "qDeylAs2An25"
      },
      "source": [
        "### Compiling the ANN"
      ]
    },
    {
      "cell_type": "code",
      "metadata": {
        "id": "pesgbWlCAtB4"
      },
      "source": [
        "ann.compile(optimizer = 'adam', loss = 'mean_squared_error')"
      ],
      "execution_count": 9,
      "outputs": []
    },
    {
      "cell_type": "markdown",
      "metadata": {
        "id": "YjVuiybYOo7r"
      },
      "source": [
        "### Training the ANN model on the Training set"
      ]
    },
    {
      "cell_type": "code",
      "metadata": {
        "id": "c_vV-tiiA5zn",
        "colab": {
          "base_uri": "https://localhost:8080/"
        },
        "outputId": "b41545f6-fab0-4ad7-da6b-3a1bd379f013"
      },
      "source": [
        "ann.fit(X_train, y_train, batch_size = 32, epochs = 100)"
      ],
      "execution_count": 10,
      "outputs": [
        {
          "output_type": "stream",
          "text": [
            "Epoch 1/100\n",
            "240/240 [==============================] - 1s 1ms/step - loss: 630457.0289\n",
            "Epoch 2/100\n",
            "240/240 [==============================] - 0s 1ms/step - loss: 238075.6615\n",
            "Epoch 3/100\n",
            "240/240 [==============================] - 0s 1ms/step - loss: 200425.7398\n",
            "Epoch 4/100\n",
            "240/240 [==============================] - 0s 1ms/step - loss: 163908.5791\n",
            "Epoch 5/100\n",
            "240/240 [==============================] - 0s 1ms/step - loss: 32922.9984\n",
            "Epoch 6/100\n",
            "240/240 [==============================] - 0s 1ms/step - loss: 321.8405\n",
            "Epoch 7/100\n",
            "240/240 [==============================] - 0s 1ms/step - loss: 300.7509\n",
            "Epoch 8/100\n",
            "240/240 [==============================] - 0s 1ms/step - loss: 301.6060\n",
            "Epoch 9/100\n",
            "240/240 [==============================] - 0s 1ms/step - loss: 287.1324\n",
            "Epoch 10/100\n",
            "240/240 [==============================] - 0s 1ms/step - loss: 292.2479\n",
            "Epoch 11/100\n",
            "240/240 [==============================] - 0s 1ms/step - loss: 281.7847\n",
            "Epoch 12/100\n",
            "240/240 [==============================] - 0s 1ms/step - loss: 271.3076\n",
            "Epoch 13/100\n",
            "240/240 [==============================] - 0s 971us/step - loss: 267.8858\n",
            "Epoch 14/100\n",
            "240/240 [==============================] - 0s 1ms/step - loss: 260.1408\n",
            "Epoch 15/100\n",
            "240/240 [==============================] - 0s 998us/step - loss: 243.9871\n",
            "Epoch 16/100\n",
            "240/240 [==============================] - 0s 1ms/step - loss: 235.1750\n",
            "Epoch 17/100\n",
            "240/240 [==============================] - 0s 1ms/step - loss: 227.7117\n",
            "Epoch 18/100\n",
            "240/240 [==============================] - 0s 986us/step - loss: 220.2549\n",
            "Epoch 19/100\n",
            "240/240 [==============================] - 0s 1ms/step - loss: 200.3904\n",
            "Epoch 20/100\n",
            "240/240 [==============================] - 0s 1ms/step - loss: 189.2007\n",
            "Epoch 21/100\n",
            "240/240 [==============================] - 0s 1ms/step - loss: 171.3030\n",
            "Epoch 22/100\n",
            "240/240 [==============================] - 0s 990us/step - loss: 160.1136\n",
            "Epoch 23/100\n",
            "240/240 [==============================] - 0s 1ms/step - loss: 149.5806\n",
            "Epoch 24/100\n",
            "240/240 [==============================] - 0s 986us/step - loss: 137.9322\n",
            "Epoch 25/100\n",
            "240/240 [==============================] - 0s 989us/step - loss: 124.7991\n",
            "Epoch 26/100\n",
            "240/240 [==============================] - 0s 1ms/step - loss: 110.2817\n",
            "Epoch 27/100\n",
            "240/240 [==============================] - 0s 1ms/step - loss: 99.7404\n",
            "Epoch 28/100\n",
            "240/240 [==============================] - 0s 1ms/step - loss: 86.3566\n",
            "Epoch 29/100\n",
            "240/240 [==============================] - 0s 1ms/step - loss: 78.3113\n",
            "Epoch 30/100\n",
            "240/240 [==============================] - 0s 1ms/step - loss: 68.2767\n",
            "Epoch 31/100\n",
            "240/240 [==============================] - 0s 1ms/step - loss: 59.4662\n",
            "Epoch 32/100\n",
            "240/240 [==============================] - 0s 1ms/step - loss: 54.3351\n",
            "Epoch 33/100\n",
            "240/240 [==============================] - 0s 1ms/step - loss: 49.2515\n",
            "Epoch 34/100\n",
            "240/240 [==============================] - 0s 1ms/step - loss: 43.8889\n",
            "Epoch 35/100\n",
            "240/240 [==============================] - 0s 970us/step - loss: 40.0210\n",
            "Epoch 36/100\n",
            "240/240 [==============================] - 0s 1ms/step - loss: 37.0326\n",
            "Epoch 37/100\n",
            "240/240 [==============================] - 0s 1ms/step - loss: 34.4055\n",
            "Epoch 38/100\n",
            "240/240 [==============================] - 0s 1ms/step - loss: 32.9599\n",
            "Epoch 39/100\n",
            "240/240 [==============================] - 0s 1ms/step - loss: 31.1725\n",
            "Epoch 40/100\n",
            "240/240 [==============================] - 0s 1ms/step - loss: 29.3107\n",
            "Epoch 41/100\n",
            "240/240 [==============================] - 0s 1ms/step - loss: 28.0636\n",
            "Epoch 42/100\n",
            "240/240 [==============================] - 0s 1ms/step - loss: 28.0984\n",
            "Epoch 43/100\n",
            "240/240 [==============================] - 0s 1ms/step - loss: 28.0382\n",
            "Epoch 44/100\n",
            "240/240 [==============================] - 0s 991us/step - loss: 27.8163\n",
            "Epoch 45/100\n",
            "240/240 [==============================] - 0s 1ms/step - loss: 27.9579\n",
            "Epoch 46/100\n",
            "240/240 [==============================] - 0s 1ms/step - loss: 26.6045\n",
            "Epoch 47/100\n",
            "240/240 [==============================] - 0s 1ms/step - loss: 27.5191\n",
            "Epoch 48/100\n",
            "240/240 [==============================] - 0s 1ms/step - loss: 27.0918\n",
            "Epoch 49/100\n",
            "240/240 [==============================] - 0s 953us/step - loss: 27.7747\n",
            "Epoch 50/100\n",
            "240/240 [==============================] - 0s 1ms/step - loss: 26.4785\n",
            "Epoch 51/100\n",
            "240/240 [==============================] - 0s 1ms/step - loss: 28.7127\n",
            "Epoch 52/100\n",
            "240/240 [==============================] - 0s 1ms/step - loss: 26.7520\n",
            "Epoch 53/100\n",
            "240/240 [==============================] - 0s 1ms/step - loss: 26.5823\n",
            "Epoch 54/100\n",
            "240/240 [==============================] - 0s 1ms/step - loss: 26.2721\n",
            "Epoch 55/100\n",
            "240/240 [==============================] - 0s 1ms/step - loss: 27.3545\n",
            "Epoch 56/100\n",
            "240/240 [==============================] - 0s 1ms/step - loss: 27.4544\n",
            "Epoch 57/100\n",
            "240/240 [==============================] - 0s 996us/step - loss: 27.3798\n",
            "Epoch 58/100\n",
            "240/240 [==============================] - 0s 985us/step - loss: 26.5034\n",
            "Epoch 59/100\n",
            "240/240 [==============================] - 0s 994us/step - loss: 26.7873\n",
            "Epoch 60/100\n",
            "240/240 [==============================] - 0s 1ms/step - loss: 27.1322\n",
            "Epoch 61/100\n",
            "240/240 [==============================] - 0s 1ms/step - loss: 26.8059\n",
            "Epoch 62/100\n",
            "240/240 [==============================] - 0s 1ms/step - loss: 26.5105\n",
            "Epoch 63/100\n",
            "240/240 [==============================] - 0s 1ms/step - loss: 27.0329\n",
            "Epoch 64/100\n",
            "240/240 [==============================] - 0s 961us/step - loss: 26.5471\n",
            "Epoch 65/100\n",
            "240/240 [==============================] - 0s 1ms/step - loss: 26.2905\n",
            "Epoch 66/100\n",
            "240/240 [==============================] - 0s 1ms/step - loss: 26.6749\n",
            "Epoch 67/100\n",
            "240/240 [==============================] - 0s 1ms/step - loss: 26.4915\n",
            "Epoch 68/100\n",
            "240/240 [==============================] - 0s 1ms/step - loss: 25.6496\n",
            "Epoch 69/100\n",
            "240/240 [==============================] - 0s 1ms/step - loss: 26.4173\n",
            "Epoch 70/100\n",
            "240/240 [==============================] - 0s 1ms/step - loss: 26.1673\n",
            "Epoch 71/100\n",
            "240/240 [==============================] - 0s 1ms/step - loss: 25.4351\n",
            "Epoch 72/100\n",
            "240/240 [==============================] - 0s 1ms/step - loss: 28.3531\n",
            "Epoch 73/100\n",
            "240/240 [==============================] - 0s 1ms/step - loss: 26.0581\n",
            "Epoch 74/100\n",
            "240/240 [==============================] - 0s 1ms/step - loss: 26.5195\n",
            "Epoch 75/100\n",
            "240/240 [==============================] - 0s 1ms/step - loss: 26.6463\n",
            "Epoch 76/100\n",
            "240/240 [==============================] - 0s 994us/step - loss: 26.2241\n",
            "Epoch 77/100\n",
            "240/240 [==============================] - 0s 1ms/step - loss: 26.4006\n",
            "Epoch 78/100\n",
            "240/240 [==============================] - 0s 981us/step - loss: 27.8012\n",
            "Epoch 79/100\n",
            "240/240 [==============================] - 0s 1ms/step - loss: 27.6461\n",
            "Epoch 80/100\n",
            "240/240 [==============================] - 0s 1ms/step - loss: 27.7836\n",
            "Epoch 81/100\n",
            "240/240 [==============================] - 0s 1ms/step - loss: 25.5413\n",
            "Epoch 82/100\n",
            "240/240 [==============================] - 0s 1ms/step - loss: 26.3426\n",
            "Epoch 83/100\n",
            "240/240 [==============================] - 0s 997us/step - loss: 26.2278\n",
            "Epoch 84/100\n",
            "240/240 [==============================] - 0s 1ms/step - loss: 27.1443\n",
            "Epoch 85/100\n",
            "240/240 [==============================] - 0s 1ms/step - loss: 27.2743\n",
            "Epoch 86/100\n",
            "240/240 [==============================] - 0s 1ms/step - loss: 25.7344\n",
            "Epoch 87/100\n",
            "240/240 [==============================] - 0s 1ms/step - loss: 26.1110\n",
            "Epoch 88/100\n",
            "240/240 [==============================] - 0s 1ms/step - loss: 26.3330\n",
            "Epoch 89/100\n",
            "240/240 [==============================] - 0s 1ms/step - loss: 26.5189\n",
            "Epoch 90/100\n",
            "240/240 [==============================] - 0s 1ms/step - loss: 26.7912\n",
            "Epoch 91/100\n",
            "240/240 [==============================] - 0s 1ms/step - loss: 26.8587\n",
            "Epoch 92/100\n",
            "240/240 [==============================] - 0s 1ms/step - loss: 27.4368\n",
            "Epoch 93/100\n",
            "240/240 [==============================] - 0s 1ms/step - loss: 26.5891\n",
            "Epoch 94/100\n",
            "240/240 [==============================] - 0s 988us/step - loss: 27.6780\n",
            "Epoch 95/100\n",
            "240/240 [==============================] - 0s 977us/step - loss: 26.6725\n",
            "Epoch 96/100\n",
            "240/240 [==============================] - 0s 1ms/step - loss: 26.1137\n",
            "Epoch 97/100\n",
            "240/240 [==============================] - 0s 1ms/step - loss: 26.5854\n",
            "Epoch 98/100\n",
            "240/240 [==============================] - 0s 1ms/step - loss: 26.4715\n",
            "Epoch 99/100\n",
            "240/240 [==============================] - 0s 1ms/step - loss: 28.0169\n",
            "Epoch 100/100\n",
            "240/240 [==============================] - 0s 1ms/step - loss: 27.2765\n"
          ],
          "name": "stdout"
        },
        {
          "output_type": "execute_result",
          "data": {
            "text/plain": [
              "<tensorflow.python.keras.callbacks.History at 0x7f98018634d0>"
            ]
          },
          "metadata": {
            "tags": []
          },
          "execution_count": 10
        }
      ]
    },
    {
      "cell_type": "markdown",
      "metadata": {
        "id": "0H0zKKNEBLD5"
      },
      "source": [
        "### Predicting the results of the Test set"
      ]
    },
    {
      "cell_type": "code",
      "metadata": {
        "id": "IA0yApEmBG1X",
        "colab": {
          "base_uri": "https://localhost:8080/"
        },
        "outputId": "ba32db42-b951-404c-96c6-7fbaa07a78d9"
      },
      "source": [
        "y_pred = ann.predict(X_test)\n",
        "np.set_printoptions(precision=2)\n",
        "print(np.concatenate((y_pred.reshape(len(y_pred),1), y_test.reshape(len(y_test),1)),1))"
      ],
      "execution_count": 11,
      "outputs": [
        {
          "output_type": "stream",
          "text": [
            "[[429.97 431.23]\n",
            " [460.9  460.01]\n",
            " [464.36 461.14]\n",
            " ...\n",
            " [471.59 473.26]\n",
            " [438.53 438.  ]\n",
            " [457.66 463.28]]\n"
          ],
          "name": "stdout"
        }
      ]
    }
  ]
}
